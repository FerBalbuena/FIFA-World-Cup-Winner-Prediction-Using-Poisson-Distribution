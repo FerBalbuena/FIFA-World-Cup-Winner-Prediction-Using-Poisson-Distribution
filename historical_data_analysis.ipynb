{
 "cells": [
  {
   "cell_type": "code",
   "execution_count": 21,
   "metadata": {},
   "outputs": [],
   "source": [
    "from bs4 import BeautifulSoup\n",
    "import requests\n",
    "import pandas as pd"
   ]
  },
  {
   "cell_type": "code",
   "execution_count": 15,
   "metadata": {},
   "outputs": [],
   "source": [
    "years= [1930,1934,1938,1950,1954,1958,1962,1966,1970,1974,\n",
    "        1978,1982,1986,1990,1994,1998,2002,2006,2010,2014,\n",
    "        2018]"
   ]
  },
  {
   "cell_type": "code",
   "execution_count": 24,
   "metadata": {},
   "outputs": [],
   "source": [
    "def get_matches(year):\n",
    "    web= f'https://en.wikipedia.org/wiki/{year}_FIFA_World_Cup'\n",
    "    answer = requests.get(web)\n",
    "    content= answer.text\n",
    "    soup= BeautifulSoup(content,'lxml')\n",
    "    matches= soup.find_all('div',class_='footballbox')\n",
    "    home=[]\n",
    "    score=[]\n",
    "    away=[]\n",
    "    for match in matches:\n",
    "        home.append(match.find('th',class_='fhome').get_text())\n",
    "        score.append(match.find('th',class_='fscore').get_text())\n",
    "        away.append(match.find('th',class_='faway').get_text())\n",
    "        \n",
    "    dict_footbal={'home':home,'score':score,'away':away}\n",
    "    df_footbal= pd.DataFrame(dict_footbal)\n",
    "    df_footbal['year']= year\n",
    "    return df_footbal"
   ]
  },
  {
   "cell_type": "code",
   "execution_count": 29,
   "metadata": {},
   "outputs": [],
   "source": [
    "#Data\n",
    "fifa= [get_matches(year) for year in years]\n",
    "df_fifa= pd.concat(fifa, ignore_index=True)\n",
    "df_fifa.to_csv('fifa_worldcup_historical_data.csv',index=False)"
   ]
  },
  {
   "cell_type": "code",
   "execution_count": null,
   "metadata": {},
   "outputs": [],
   "source": [
    "#Partidos sin los resultado Mundial 2022\n",
    "def get_match(year):\n",
    "    web= 'https://web.archive.org/web/20221115040351/https://en.wikipedia.org/wiki/2022_FIFA_World_Cup'\n",
    "    answer = requests.get(web)\n",
    "    content= answer.text\n",
    "    soup= BeautifulSoup(content,'lxml')\n",
    "    matches= soup.find_all('div',class_='footballbox')\n",
    "    home=[]\n",
    "    score=[]\n",
    "    away=[]\n",
    "    for match in matches:\n",
    "        home.append(match.find('th',class_='fhome').get_text())\n",
    "        score.append(match.find('th',class_='fscore').get_text())\n",
    "        away.append(match.find('th',class_='faway').get_text())\n",
    "        \n",
    "    dict_footbal={'home':home,'score':score,'away':away}\n",
    "    df_footbal= pd.DataFrame(dict_footbal)\n",
    "    df_footbal['year']= year\n",
    "    return df_footbal"
   ]
  },
  {
   "cell_type": "code",
   "execution_count": 33,
   "metadata": {},
   "outputs": [],
   "source": [
    "df_fixture=get_match('2022')\n",
    "df_fixture.to_csv('fifa_worldcup_fixture.csv',index=False)"
   ]
  }
 ],
 "metadata": {
  "kernelspec": {
   "display_name": "Python 3",
   "language": "python",
   "name": "python3"
  },
  "language_info": {
   "codemirror_mode": {
    "name": "ipython",
    "version": 3
   },
   "file_extension": ".py",
   "mimetype": "text/x-python",
   "name": "python",
   "nbconvert_exporter": "python",
   "pygments_lexer": "ipython3",
   "version": "3.12.3"
  }
 },
 "nbformat": 4,
 "nbformat_minor": 2
}
