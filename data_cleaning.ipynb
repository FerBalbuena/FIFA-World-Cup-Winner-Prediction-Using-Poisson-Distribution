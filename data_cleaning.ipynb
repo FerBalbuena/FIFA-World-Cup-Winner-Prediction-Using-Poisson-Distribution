{
 "cells": [
  {
   "cell_type": "code",
   "execution_count": 1,
   "metadata": {},
   "outputs": [],
   "source": [
    "import pandas as pd"
   ]
  },
  {
   "cell_type": "code",
   "execution_count": null,
   "metadata": {},
   "outputs": [],
   "source": [
    "df_data_historica =pd.read_csv('fifa_worldcup_historical_data.csv')\n",
    "df_fixture =pd.read_csv('fifa_worldcup_fixture.csv')\n"
   ]
  },
  {
   "cell_type": "code",
   "execution_count": 7,
   "metadata": {},
   "outputs": [],
   "source": [
    "#limpiando df_fixture\n",
    "df_fixture['home']=df_fixture['home'].str.strip()\n",
    "df_fixture['away']=df_fixture['away'].str.strip()"
   ]
  },
  {
   "cell_type": "code",
   "execution_count": 24,
   "metadata": {},
   "outputs": [],
   "source": [
    "#limpiando df_data_historica\n",
    "index_eliminar= df_data_historica[df_data_historica['home'].str.contains('Sweden')& df_data_historica['away'].str.contains('Austria')].index"
   ]
  },
  {
   "cell_type": "code",
   "execution_count": null,
   "metadata": {},
   "outputs": [],
   "source": [
    "df_data_historica.drop(index=index_eliminar, inplace=True)"
   ]
  },
  {
   "cell_type": "code",
   "execution_count": 30,
   "metadata": {},
   "outputs": [],
   "source": [
    "#df_data_historica[df_data_historica['score'].str.contains(r'[^\\d–]')]\n",
    "df_data_historica['score']=df_data_historica['score'].str.replace(r'[^\\d–]', '',regex=True)"
   ]
  },
  {
   "cell_type": "code",
   "execution_count": 32,
   "metadata": {},
   "outputs": [],
   "source": [
    "df_data_historica['home']=df_data_historica['home'].str.strip()\n",
    "df_data_historica['away']=df_data_historica['away'].str.strip()"
   ]
  },
  {
   "cell_type": "code",
   "execution_count": 35,
   "metadata": {},
   "outputs": [],
   "source": [
    "df_data_historica[['HomeGoals','AwayGoals']] =df_data_historica['score'].str.split('–',expand=True)"
   ]
  },
  {
   "cell_type": "code",
   "execution_count": 37,
   "metadata": {},
   "outputs": [],
   "source": [
    "df_data_historica.drop('score',axis=1,inplace=True)"
   ]
  },
  {
   "cell_type": "code",
   "execution_count": 39,
   "metadata": {},
   "outputs": [],
   "source": [
    "df_data_historica.rename(columns={'home':'HomeTeam','away':'AwayTeam','year':'Year'},inplace=True)"
   ]
  },
  {
   "cell_type": "code",
   "execution_count": 42,
   "metadata": {},
   "outputs": [],
   "source": [
    "\n",
    "df_data_historica=df_data_historica.astype({'HomeGoals':int,'AwayGoals': int,'Year':'Int16' })"
   ]
  },
  {
   "cell_type": "code",
   "execution_count": 46,
   "metadata": {},
   "outputs": [],
   "source": [
    "df_data_historica['TotalGoals']=df_data_historica['HomeGoals']+df_data_historica['AwayGoals']"
   ]
  },
  {
   "cell_type": "code",
   "execution_count": 48,
   "metadata": {},
   "outputs": [],
   "source": [
    "df_data_historica.to_csv('clean_fifa_worldcup_historical_data.csv',index=False)\n",
    "df_fixture.to_csv('clean_fifa_worldcup_fixture.csv',index=False)"
   ]
  },
  {
   "cell_type": "code",
   "execution_count": 49,
   "metadata": {},
   "outputs": [
    {
     "name": "stdout",
     "output_type": "stream",
     "text": [
      "1930 18\n",
      "1934 17\n",
      "1938 18\n",
      "1950 22\n",
      "1954 26\n",
      "1958 35\n",
      "1962 32\n",
      "1966 32\n",
      "1970 32\n",
      "1974 38\n",
      "1978 38\n",
      "1982 52\n",
      "1986 52\n",
      "1990 16\n",
      "1994 52\n",
      "1998 64\n",
      "2002 64\n",
      "2006 64\n",
      "2010 64\n",
      "2014 64\n",
      "2018 64\n"
     ]
    }
   ],
   "source": [
    "years= [1930,1934,1938,1950,1954,1958,1962,1966,1970,1974,\n",
    "        1978,1982,1986,1990,1994,1998,2002,2006,2010,2014,\n",
    "        2018]\n",
    "for year in years:\n",
    "    print(year,len(df_data_historica[df_data_historica['Year']==year]))"
   ]
  }
 ],
 "metadata": {
  "kernelspec": {
   "display_name": "Python 3",
   "language": "python",
   "name": "python3"
  },
  "language_info": {
   "codemirror_mode": {
    "name": "ipython",
    "version": 3
   },
   "file_extension": ".py",
   "mimetype": "text/x-python",
   "name": "python",
   "nbconvert_exporter": "python",
   "pygments_lexer": "ipython3",
   "version": "3.12.3"
  }
 },
 "nbformat": 4,
 "nbformat_minor": 2
}
